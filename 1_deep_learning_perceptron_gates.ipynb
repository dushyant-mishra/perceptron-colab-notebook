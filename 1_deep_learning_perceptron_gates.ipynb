{
  "nbformat": 4,
  "nbformat_minor": 0,
  "metadata": {
    "colab": {
      "name": "1 deep learning perceptron gates.ipynb",
      "provenance": [],
      "collapsed_sections": [],
      "mount_file_id": "1mQccVcBWDNhw2phUb9RdnOrqXlzRtInM",
      "authorship_tag": "ABX9TyPDf8fxApvr6an4XvvKyAXn",
      "include_colab_link": true
    },
    "kernelspec": {
      "name": "python3",
      "display_name": "Python 3"
    },
    "language_info": {
      "name": "python"
    }
  },
  "cells": [
    {
      "cell_type": "markdown",
      "metadata": {
        "id": "view-in-github",
        "colab_type": "text"
      },
      "source": [
        "<a href=\"https://colab.research.google.com/github/dushyant-mishra/perceptron-colab-notebook/blob/main/1_deep_learning_perceptron_gates.ipynb\" target=\"_parent\"><img src=\"https://colab.research.google.com/assets/colab-badge.svg\" alt=\"Open In Colab\"/></a>"
      ]
    },
    {
      "cell_type": "code",
      "metadata": {
        "id": "V5XmJhJiw4qz"
      },
      "source": [
        "ROOT =\"/content/drive/MyDrive/Colab Notebooks/ineuron/deep learning course/perceptron gates\""
      ],
      "execution_count": 1,
      "outputs": []
    },
    {
      "cell_type": "code",
      "metadata": {
        "id": "xXP5kLzfxXsY"
      },
      "source": [
        "import os\n",
        "\n",
        "os.chdir(ROOT)"
      ],
      "execution_count": 2,
      "outputs": []
    },
    {
      "cell_type": "code",
      "metadata": {
        "id": "BeS8RQD2uyCS",
        "colab": {
          "base_uri": "https://localhost:8080/"
        },
        "outputId": "0f8d2e61-506c-468d-daa6-8bfbf6f93151"
      },
      "source": [
        "!ls"
      ],
      "execution_count": 3,
      "outputs": [
        {
          "output_type": "stream",
          "name": "stdout",
          "text": [
            "'1 deep learning perceptron gates-iNeuron.ipynb'   models   plots   test.txt\n"
          ]
        }
      ]
    },
    {
      "cell_type": "code",
      "metadata": {
        "id": "YKXOL6aGxVzI"
      },
      "source": [
        "assert ROOT == os.getcwd()"
      ],
      "execution_count": 4,
      "outputs": []
    },
    {
      "cell_type": "code",
      "metadata": {
        "id": "1jZCaG5yxaR2",
        "colab": {
          "base_uri": "https://localhost:8080/",
          "height": 35
        },
        "outputId": "5ede7ad0-4abb-434b-9953-cbf25b0c0750"
      },
      "source": [
        "os.getcwd()"
      ],
      "execution_count": 5,
      "outputs": [
        {
          "output_type": "execute_result",
          "data": {
            "application/vnd.google.colaboratory.intrinsic+json": {
              "type": "string"
            },
            "text/plain": [
              "'/content/drive/MyDrive/Colab Notebooks/ineuron/deep learning course/perceptron gates'"
            ]
          },
          "metadata": {},
          "execution_count": 5
        }
      ]
    },
    {
      "cell_type": "code",
      "metadata": {
        "id": "EqalmcFuxq6Y"
      },
      "source": [
        "with open(\"test.txt\", \"w\") as f:\n",
        "  f.writelines(\"hello colab\")"
      ],
      "execution_count": 6,
      "outputs": []
    },
    {
      "cell_type": "markdown",
      "metadata": {
        "id": "fDDfjjv_x8vT"
      },
      "source": [
        "## Implimentation of Perceptron\n"
      ]
    },
    {
      "cell_type": "code",
      "metadata": {
        "id": "F7tIBk9dx0ae"
      },
      "source": [
        "import matplotlib.pyplot as plt\n",
        "import numpy as np\n",
        "import pandas as pd\n",
        "import joblib # FOR SAVING MY MODEL AS A BINARY FILE\n",
        "from matplotlib.colors import ListedColormap\n",
        "\n",
        "plt.style.use(\"fivethirtyeight\") # THIS IS STYLE OF GRAPHS"
      ],
      "execution_count": 7,
      "outputs": []
    },
    {
      "cell_type": "code",
      "metadata": {
        "id": "-x6kExjDzryT",
        "colab": {
          "base_uri": "https://localhost:8080/"
        },
        "outputId": "c5ab41df-c9eb-4ea3-e4bd-6e898169fddd"
      },
      "source": [
        "np.random.randn(3) * 1e-4"
      ],
      "execution_count": 8,
      "outputs": [
        {
          "output_type": "execute_result",
          "data": {
            "text/plain": [
              "array([ 3.46625662e-05, -2.30659744e-05,  8.15677791e-05])"
            ]
          },
          "metadata": {},
          "execution_count": 8
        }
      ]
    },
    {
      "cell_type": "code",
      "metadata": {
        "id": "44tFWdbm055g",
        "colab": {
          "base_uri": "https://localhost:8080/"
        },
        "outputId": "5e9de54f-b357-49a3-d244-2134e50174c2"
      },
      "source": [
        "-np.ones((4, 1))"
      ],
      "execution_count": 9,
      "outputs": [
        {
          "output_type": "execute_result",
          "data": {
            "text/plain": [
              "array([[-1.],\n",
              "       [-1.],\n",
              "       [-1.],\n",
              "       [-1.]])"
            ]
          },
          "metadata": {},
          "execution_count": 9
        }
      ]
    },
    {
      "cell_type": "code",
      "source": [
        "np.c_[(1,1,1,1),-np.ones((4, 1))]"
      ],
      "metadata": {
        "colab": {
          "base_uri": "https://localhost:8080/"
        },
        "id": "a49CmRRFMWrh",
        "outputId": "7039e8a3-7516-4563-a0e8-7623f8a7952a"
      },
      "execution_count": 10,
      "outputs": [
        {
          "output_type": "execute_result",
          "data": {
            "text/plain": [
              "array([[ 1., -1.],\n",
              "       [ 1., -1.],\n",
              "       [ 1., -1.],\n",
              "       [ 1., -1.]])"
            ]
          },
          "metadata": {},
          "execution_count": 10
        }
      ]
    },
    {
      "cell_type": "code",
      "metadata": {
        "id": "ICwBcKKJ67t0",
        "colab": {
          "base_uri": "https://localhost:8080/"
        },
        "outputId": "2c18c765-adcc-4c06-bab2-e0f786001612"
      },
      "source": [
        "1e-4"
      ],
      "execution_count": 11,
      "outputs": [
        {
          "output_type": "execute_result",
          "data": {
            "text/plain": [
              "0.0001"
            ]
          },
          "metadata": {},
          "execution_count": 11
        }
      ]
    },
    {
      "cell_type": "code",
      "metadata": {
        "id": "I6kYmEtNynUF"
      },
      "source": [
        "class Perceptron:\n",
        "  def __init__(self, eta: float=None, epochs: int=None):\n",
        "    self.weights = np.random.randn(3) * 1e-4 # Small weight initialization\n",
        "    print(f\"initial weights before training: \\n{self.weights}\")\n",
        "    self.eta = eta # Learning rate\n",
        "    self.epochs = epochs # iterations\n",
        "\n",
        "  def _z_outcome(self, inputs, weights):\n",
        "    return np.dot(inputs, weights) # z = W * X  \n",
        "  \n",
        "  def activationFunction(self, z):\n",
        "    return np.where(z > 0, 1, 0) # Condition, IF TRUE, ELSE\n",
        "\n",
        "  def fit(self, X, y):\n",
        "    self.X = X\n",
        "    self.y = y\n",
        "\n",
        "    X_with_bias = np.c_[self.X, -np.ones((len(self.X), 1))] # Concatination\n",
        "    print(f\"X with bias: \\n{X_with_bias}\")\n",
        "\n",
        "    for epoch in range(self.epochs):\n",
        "      print(\"--\"*10)\n",
        "      print(f\"for epoch: {epoch+1}\")\n",
        "      print(\"--\"*10)\n",
        "\n",
        "      z = self._z_outcome(X_with_bias, self.weights) \n",
        "      y_hat = self.activationFunction(z)  # foward propagation\n",
        "      print(f\"predicted value after forward pass: \\n{y_hat}\")\n",
        "      \n",
        "      self.error = self.y - y_hat\n",
        "      print(f\"error: \\n{self.error}\")\n",
        "\n",
        "      total_loss = np.sum(self.error)\n",
        "      print(f\"total loss: {total_loss}\")      # returns the sum of all the errors         \n",
        "      \n",
        "      self.weights = self.weights + self.eta * np.dot(X_with_bias.T, self.error) # backward propagation\n",
        "      print(f\"updated weights after epoch:\\n{epoch+1}/{self.epochs} : \\n{self.weights}\")\n",
        "      print(\"#####\"*10)\n",
        "\n",
        "\n",
        "  def predict(self, X):\n",
        "    X_with_bias = np.c_[X, -np.ones((len(X), 1))]              #prediction is same as forward pass without the backward pass\n",
        "    z= self._z_outcome(X_with_bias, self.weights)\n",
        "    return self.activationFunction(z)\n",
        "\n",
        "  def total_loss(self):\n",
        "    total_loss = np.sum(self.error)\n",
        "    print(f\"total loss: {total_loss}\")\n",
        "    return total_loss\n"
      ],
      "execution_count": 19,
      "outputs": []
    },
    {
      "cell_type": "code",
      "metadata": {
        "id": "xv6DH1ej3vDd"
      },
      "source": [
        "def prepare_data(df, target_col=\"y\"):\n",
        "  X = df.drop(target_col, axis=1)  #axis=1 for dropping y columns\n",
        "\n",
        "  y = df[target_col]\n",
        "\n",
        "  return X, y"
      ],
      "execution_count": 14,
      "outputs": []
    },
    {
      "cell_type": "code",
      "metadata": {
        "id": "TJI966OH8iSB"
      },
      "source": [
        "def save_model(model, filename):\n",
        "  model_dir = \"models\"\n",
        "  os.makedirs(model_dir, exist_ok=True) # Only create a new directory if model_dir does not exist\n",
        "  filePath = os.path.join(model_dir, filename) # models/filename\n",
        "  joblib.dump(model, filePath)"
      ],
      "execution_count": 29,
      "outputs": []
    },
    {
      "cell_type": "code",
      "metadata": {
        "id": "PX3AO39h4Ijc",
        "colab": {
          "base_uri": "https://localhost:8080/",
          "height": 175
        },
        "outputId": "e208b6b1-393a-4af2-8bea-6c39001312a4"
      },
      "source": [
        "AND = {\n",
        "    \"x1\": [0,0,1,1],\n",
        "    \"x2\": [0,1,0,1],\n",
        "    \"y\": [0,0,0,1],\n",
        "}\n",
        "\n",
        "df_AND = pd.DataFrame(AND)\n",
        "\n",
        "df_AND"
      ],
      "execution_count": 20,
      "outputs": [
        {
          "output_type": "execute_result",
          "data": {
            "text/html": [
              "\n",
              "  <div id=\"df-8614ff8c-8305-4483-b089-af26190c5f08\">\n",
              "    <div class=\"colab-df-container\">\n",
              "      <div>\n",
              "<style scoped>\n",
              "    .dataframe tbody tr th:only-of-type {\n",
              "        vertical-align: middle;\n",
              "    }\n",
              "\n",
              "    .dataframe tbody tr th {\n",
              "        vertical-align: top;\n",
              "    }\n",
              "\n",
              "    .dataframe thead th {\n",
              "        text-align: right;\n",
              "    }\n",
              "</style>\n",
              "<table border=\"1\" class=\"dataframe\">\n",
              "  <thead>\n",
              "    <tr style=\"text-align: right;\">\n",
              "      <th></th>\n",
              "      <th>x1</th>\n",
              "      <th>x2</th>\n",
              "      <th>y</th>\n",
              "    </tr>\n",
              "  </thead>\n",
              "  <tbody>\n",
              "    <tr>\n",
              "      <th>0</th>\n",
              "      <td>0</td>\n",
              "      <td>0</td>\n",
              "      <td>0</td>\n",
              "    </tr>\n",
              "    <tr>\n",
              "      <th>1</th>\n",
              "      <td>0</td>\n",
              "      <td>1</td>\n",
              "      <td>0</td>\n",
              "    </tr>\n",
              "    <tr>\n",
              "      <th>2</th>\n",
              "      <td>1</td>\n",
              "      <td>0</td>\n",
              "      <td>0</td>\n",
              "    </tr>\n",
              "    <tr>\n",
              "      <th>3</th>\n",
              "      <td>1</td>\n",
              "      <td>1</td>\n",
              "      <td>1</td>\n",
              "    </tr>\n",
              "  </tbody>\n",
              "</table>\n",
              "</div>\n",
              "      <button class=\"colab-df-convert\" onclick=\"convertToInteractive('df-8614ff8c-8305-4483-b089-af26190c5f08')\"\n",
              "              title=\"Convert this dataframe to an interactive table.\"\n",
              "              style=\"display:none;\">\n",
              "        \n",
              "  <svg xmlns=\"http://www.w3.org/2000/svg\" height=\"24px\"viewBox=\"0 0 24 24\"\n",
              "       width=\"24px\">\n",
              "    <path d=\"M0 0h24v24H0V0z\" fill=\"none\"/>\n",
              "    <path d=\"M18.56 5.44l.94 2.06.94-2.06 2.06-.94-2.06-.94-.94-2.06-.94 2.06-2.06.94zm-11 1L8.5 8.5l.94-2.06 2.06-.94-2.06-.94L8.5 2.5l-.94 2.06-2.06.94zm10 10l.94 2.06.94-2.06 2.06-.94-2.06-.94-.94-2.06-.94 2.06-2.06.94z\"/><path d=\"M17.41 7.96l-1.37-1.37c-.4-.4-.92-.59-1.43-.59-.52 0-1.04.2-1.43.59L10.3 9.45l-7.72 7.72c-.78.78-.78 2.05 0 2.83L4 21.41c.39.39.9.59 1.41.59.51 0 1.02-.2 1.41-.59l7.78-7.78 2.81-2.81c.8-.78.8-2.07 0-2.86zM5.41 20L4 18.59l7.72-7.72 1.47 1.35L5.41 20z\"/>\n",
              "  </svg>\n",
              "      </button>\n",
              "      \n",
              "  <style>\n",
              "    .colab-df-container {\n",
              "      display:flex;\n",
              "      flex-wrap:wrap;\n",
              "      gap: 12px;\n",
              "    }\n",
              "\n",
              "    .colab-df-convert {\n",
              "      background-color: #E8F0FE;\n",
              "      border: none;\n",
              "      border-radius: 50%;\n",
              "      cursor: pointer;\n",
              "      display: none;\n",
              "      fill: #1967D2;\n",
              "      height: 32px;\n",
              "      padding: 0 0 0 0;\n",
              "      width: 32px;\n",
              "    }\n",
              "\n",
              "    .colab-df-convert:hover {\n",
              "      background-color: #E2EBFA;\n",
              "      box-shadow: 0px 1px 2px rgba(60, 64, 67, 0.3), 0px 1px 3px 1px rgba(60, 64, 67, 0.15);\n",
              "      fill: #174EA6;\n",
              "    }\n",
              "\n",
              "    [theme=dark] .colab-df-convert {\n",
              "      background-color: #3B4455;\n",
              "      fill: #D2E3FC;\n",
              "    }\n",
              "\n",
              "    [theme=dark] .colab-df-convert:hover {\n",
              "      background-color: #434B5C;\n",
              "      box-shadow: 0px 1px 3px 1px rgba(0, 0, 0, 0.15);\n",
              "      filter: drop-shadow(0px 1px 2px rgba(0, 0, 0, 0.3));\n",
              "      fill: #FFFFFF;\n",
              "    }\n",
              "  </style>\n",
              "\n",
              "      <script>\n",
              "        const buttonEl =\n",
              "          document.querySelector('#df-8614ff8c-8305-4483-b089-af26190c5f08 button.colab-df-convert');\n",
              "        buttonEl.style.display =\n",
              "          google.colab.kernel.accessAllowed ? 'block' : 'none';\n",
              "\n",
              "        async function convertToInteractive(key) {\n",
              "          const element = document.querySelector('#df-8614ff8c-8305-4483-b089-af26190c5f08');\n",
              "          const dataTable =\n",
              "            await google.colab.kernel.invokeFunction('convertToInteractive',\n",
              "                                                     [key], {});\n",
              "          if (!dataTable) return;\n",
              "\n",
              "          const docLinkHtml = 'Like what you see? Visit the ' +\n",
              "            '<a target=\"_blank\" href=https://colab.research.google.com/notebooks/data_table.ipynb>data table notebook</a>'\n",
              "            + ' to learn more about interactive tables.';\n",
              "          element.innerHTML = '';\n",
              "          dataTable['output_type'] = 'display_data';\n",
              "          await google.colab.output.renderOutput(dataTable, element);\n",
              "          const docLink = document.createElement('div');\n",
              "          docLink.innerHTML = docLinkHtml;\n",
              "          element.appendChild(docLink);\n",
              "        }\n",
              "      </script>\n",
              "    </div>\n",
              "  </div>\n",
              "  "
            ],
            "text/plain": [
              "   x1  x2  y\n",
              "0   0   0  0\n",
              "1   0   1  0\n",
              "2   1   0  0\n",
              "3   1   1  1"
            ]
          },
          "metadata": {},
          "execution_count": 20
        }
      ]
    },
    {
      "cell_type": "code",
      "metadata": {
        "id": "ZLTBRikh4YgE",
        "colab": {
          "base_uri": "https://localhost:8080/"
        },
        "outputId": "045f6c2d-7786-43c3-b9cf-402ef5b3d3fc"
      },
      "source": [
        "X,y = prepare_data(df_AND)\n",
        "\n",
        "ETA = 0.3 # 0 and 1\n",
        "EPOCHS = 10\n",
        "\n",
        "model_AND = Perceptron(eta=ETA, epochs=EPOCHS)\n",
        "model_AND.fit(X, y)\n",
        "\n",
        "_ = model_AND.total_loss()\n"
      ],
      "execution_count": 21,
      "outputs": [
        {
          "output_type": "stream",
          "name": "stdout",
          "text": [
            "initial weights before training: \n",
            "[1.39604755e-04 1.15196657e-04 2.77870165e-05]\n",
            "X with bias: \n",
            "[[ 0.  0. -1.]\n",
            " [ 0.  1. -1.]\n",
            " [ 1.  0. -1.]\n",
            " [ 1.  1. -1.]]\n",
            "--------------------\n",
            "for epoch: 1\n",
            "--------------------\n",
            "predicted value after forward pass: \n",
            "[0 1 1 1]\n",
            "error: \n",
            "0    0\n",
            "1   -1\n",
            "2   -1\n",
            "3    0\n",
            "Name: y, dtype: int64\n",
            "total loss: -2\n",
            "updated weights after epoch:\n",
            "1/10 : \n",
            "[-0.2998604  -0.2998848   0.60002779]\n",
            "##################################################\n",
            "--------------------\n",
            "for epoch: 2\n",
            "--------------------\n",
            "predicted value after forward pass: \n",
            "[0 0 0 0]\n",
            "error: \n",
            "0    0\n",
            "1    0\n",
            "2    0\n",
            "3    1\n",
            "Name: y, dtype: int64\n",
            "total loss: 1\n",
            "updated weights after epoch:\n",
            "2/10 : \n",
            "[1.39604755e-04 1.15196657e-04 3.00027787e-01]\n",
            "##################################################\n",
            "--------------------\n",
            "for epoch: 3\n",
            "--------------------\n",
            "predicted value after forward pass: \n",
            "[0 0 0 0]\n",
            "error: \n",
            "0    0\n",
            "1    0\n",
            "2    0\n",
            "3    1\n",
            "Name: y, dtype: int64\n",
            "total loss: 1\n",
            "updated weights after epoch:\n",
            "3/10 : \n",
            "[3.00139605e-01 3.00115197e-01 2.77870165e-05]\n",
            "##################################################\n",
            "--------------------\n",
            "for epoch: 4\n",
            "--------------------\n",
            "predicted value after forward pass: \n",
            "[0 1 1 1]\n",
            "error: \n",
            "0    0\n",
            "1   -1\n",
            "2   -1\n",
            "3    0\n",
            "Name: y, dtype: int64\n",
            "total loss: -2\n",
            "updated weights after epoch:\n",
            "4/10 : \n",
            "[1.39604755e-04 1.15196657e-04 6.00027787e-01]\n",
            "##################################################\n",
            "--------------------\n",
            "for epoch: 5\n",
            "--------------------\n",
            "predicted value after forward pass: \n",
            "[0 0 0 0]\n",
            "error: \n",
            "0    0\n",
            "1    0\n",
            "2    0\n",
            "3    1\n",
            "Name: y, dtype: int64\n",
            "total loss: 1\n",
            "updated weights after epoch:\n",
            "5/10 : \n",
            "[0.3001396  0.3001152  0.30002779]\n",
            "##################################################\n",
            "--------------------\n",
            "for epoch: 6\n",
            "--------------------\n",
            "predicted value after forward pass: \n",
            "[0 1 1 1]\n",
            "error: \n",
            "0    0\n",
            "1   -1\n",
            "2   -1\n",
            "3    0\n",
            "Name: y, dtype: int64\n",
            "total loss: -2\n",
            "updated weights after epoch:\n",
            "6/10 : \n",
            "[1.39604755e-04 1.15196657e-04 9.00027787e-01]\n",
            "##################################################\n",
            "--------------------\n",
            "for epoch: 7\n",
            "--------------------\n",
            "predicted value after forward pass: \n",
            "[0 0 0 0]\n",
            "error: \n",
            "0    0\n",
            "1    0\n",
            "2    0\n",
            "3    1\n",
            "Name: y, dtype: int64\n",
            "total loss: 1\n",
            "updated weights after epoch:\n",
            "7/10 : \n",
            "[0.3001396  0.3001152  0.60002779]\n",
            "##################################################\n",
            "--------------------\n",
            "for epoch: 8\n",
            "--------------------\n",
            "predicted value after forward pass: \n",
            "[0 0 0 1]\n",
            "error: \n",
            "0    0\n",
            "1    0\n",
            "2    0\n",
            "3    0\n",
            "Name: y, dtype: int64\n",
            "total loss: 0\n",
            "updated weights after epoch:\n",
            "8/10 : \n",
            "[0.3001396  0.3001152  0.60002779]\n",
            "##################################################\n",
            "--------------------\n",
            "for epoch: 9\n",
            "--------------------\n",
            "predicted value after forward pass: \n",
            "[0 0 0 1]\n",
            "error: \n",
            "0    0\n",
            "1    0\n",
            "2    0\n",
            "3    0\n",
            "Name: y, dtype: int64\n",
            "total loss: 0\n",
            "updated weights after epoch:\n",
            "9/10 : \n",
            "[0.3001396  0.3001152  0.60002779]\n",
            "##################################################\n",
            "--------------------\n",
            "for epoch: 10\n",
            "--------------------\n",
            "predicted value after forward pass: \n",
            "[0 0 0 1]\n",
            "error: \n",
            "0    0\n",
            "1    0\n",
            "2    0\n",
            "3    0\n",
            "Name: y, dtype: int64\n",
            "total loss: 0\n",
            "updated weights after epoch:\n",
            "10/10 : \n",
            "[0.3001396  0.3001152  0.60002779]\n",
            "##################################################\n",
            "total loss: 0\n"
          ]
        }
      ]
    },
    {
      "cell_type": "code",
      "metadata": {
        "id": "1d1buZgF47uU",
        "colab": {
          "base_uri": "https://localhost:8080/"
        },
        "outputId": "7f23427e-09a1-47b4-827e-182d4ae6826b"
      },
      "source": [
        "model_AND.predict(X)"
      ],
      "execution_count": 22,
      "outputs": [
        {
          "output_type": "execute_result",
          "data": {
            "text/plain": [
              "array([0, 0, 0, 1])"
            ]
          },
          "metadata": {},
          "execution_count": 22
        }
      ]
    },
    {
      "cell_type": "code",
      "source": [
        "model_AND.predict(X=[[1,0]])"
      ],
      "metadata": {
        "colab": {
          "base_uri": "https://localhost:8080/"
        },
        "id": "xoID9wE1kh1Q",
        "outputId": "9b7a287c-8ed3-45fe-8a51-c5577bd22530"
      },
      "execution_count": 23,
      "outputs": [
        {
          "output_type": "execute_result",
          "data": {
            "text/plain": [
              "array([0])"
            ]
          },
          "metadata": {},
          "execution_count": 23
        }
      ]
    },
    {
      "cell_type": "code",
      "metadata": {
        "id": "uzgNIp848cr0",
        "colab": {
          "base_uri": "https://localhost:8080/"
        },
        "outputId": "3a715086-e612-4d83-94d9-63162fba2fd7"
      },
      "source": [
        "X.values"
      ],
      "execution_count": 24,
      "outputs": [
        {
          "output_type": "execute_result",
          "data": {
            "text/plain": [
              "array([[0, 0],\n",
              "       [0, 1],\n",
              "       [1, 0],\n",
              "       [1, 1]])"
            ]
          },
          "metadata": {},
          "execution_count": 24
        }
      ]
    },
    {
      "cell_type": "code",
      "metadata": {
        "id": "SQVVfSQO8Wj7",
        "colab": {
          "base_uri": "https://localhost:8080/"
        },
        "outputId": "cba2dc38-5436-455e-d7a3-3170d5f208d3"
      },
      "source": [
        "inputs = np.array([[1,1], [0,1]])\n",
        "model_AND.predict(inputs)"
      ],
      "execution_count": 25,
      "outputs": [
        {
          "output_type": "execute_result",
          "data": {
            "text/plain": [
              "array([1, 0])"
            ]
          },
          "metadata": {},
          "execution_count": 25
        }
      ]
    },
    {
      "cell_type": "code",
      "metadata": {
        "id": "a2wQoJLr9nt6"
      },
      "source": [
        "save_model(model_AND, \"AND.model\")  #saving the AND model"
      ],
      "execution_count": 28,
      "outputs": []
    },
    {
      "cell_type": "code",
      "metadata": {
        "id": "-bjBLsUW9r-p",
        "colab": {
          "base_uri": "https://localhost:8080/"
        },
        "outputId": "06f65493-7830-4346-9a6e-79f9a6799ff7"
      },
      "source": [
        "loaded_model = joblib.load(\"models/AND.model\")  #loading saved model\n",
        "loaded_model.predict(inputs)"
      ],
      "execution_count": 30,
      "outputs": [
        {
          "output_type": "execute_result",
          "data": {
            "text/plain": [
              "array([1, 0])"
            ]
          },
          "metadata": {},
          "execution_count": 30
        }
      ]
    },
    {
      "cell_type": "code",
      "metadata": {
        "id": "U17jrl-C-DYA",
        "colab": {
          "base_uri": "https://localhost:8080/",
          "height": 175
        },
        "outputId": "4dd8ae05-8443-4631-a0e3-19e646ebe43f"
      },
      "source": [
        "OR = {\n",
        "    \"x1\": [0,0,1,1],\n",
        "    \"x2\": [0,1,0,1],\n",
        "    \"y\": [0,1,1,1],\n",
        "}\n",
        "\n",
        "df_OR = pd.DataFrame(OR)\n",
        "\n",
        "df_OR"
      ],
      "execution_count": 31,
      "outputs": [
        {
          "output_type": "execute_result",
          "data": {
            "text/html": [
              "\n",
              "  <div id=\"df-e40785c2-2500-4efb-956f-4d1497adafb3\">\n",
              "    <div class=\"colab-df-container\">\n",
              "      <div>\n",
              "<style scoped>\n",
              "    .dataframe tbody tr th:only-of-type {\n",
              "        vertical-align: middle;\n",
              "    }\n",
              "\n",
              "    .dataframe tbody tr th {\n",
              "        vertical-align: top;\n",
              "    }\n",
              "\n",
              "    .dataframe thead th {\n",
              "        text-align: right;\n",
              "    }\n",
              "</style>\n",
              "<table border=\"1\" class=\"dataframe\">\n",
              "  <thead>\n",
              "    <tr style=\"text-align: right;\">\n",
              "      <th></th>\n",
              "      <th>x1</th>\n",
              "      <th>x2</th>\n",
              "      <th>y</th>\n",
              "    </tr>\n",
              "  </thead>\n",
              "  <tbody>\n",
              "    <tr>\n",
              "      <th>0</th>\n",
              "      <td>0</td>\n",
              "      <td>0</td>\n",
              "      <td>0</td>\n",
              "    </tr>\n",
              "    <tr>\n",
              "      <th>1</th>\n",
              "      <td>0</td>\n",
              "      <td>1</td>\n",
              "      <td>1</td>\n",
              "    </tr>\n",
              "    <tr>\n",
              "      <th>2</th>\n",
              "      <td>1</td>\n",
              "      <td>0</td>\n",
              "      <td>1</td>\n",
              "    </tr>\n",
              "    <tr>\n",
              "      <th>3</th>\n",
              "      <td>1</td>\n",
              "      <td>1</td>\n",
              "      <td>1</td>\n",
              "    </tr>\n",
              "  </tbody>\n",
              "</table>\n",
              "</div>\n",
              "      <button class=\"colab-df-convert\" onclick=\"convertToInteractive('df-e40785c2-2500-4efb-956f-4d1497adafb3')\"\n",
              "              title=\"Convert this dataframe to an interactive table.\"\n",
              "              style=\"display:none;\">\n",
              "        \n",
              "  <svg xmlns=\"http://www.w3.org/2000/svg\" height=\"24px\"viewBox=\"0 0 24 24\"\n",
              "       width=\"24px\">\n",
              "    <path d=\"M0 0h24v24H0V0z\" fill=\"none\"/>\n",
              "    <path d=\"M18.56 5.44l.94 2.06.94-2.06 2.06-.94-2.06-.94-.94-2.06-.94 2.06-2.06.94zm-11 1L8.5 8.5l.94-2.06 2.06-.94-2.06-.94L8.5 2.5l-.94 2.06-2.06.94zm10 10l.94 2.06.94-2.06 2.06-.94-2.06-.94-.94-2.06-.94 2.06-2.06.94z\"/><path d=\"M17.41 7.96l-1.37-1.37c-.4-.4-.92-.59-1.43-.59-.52 0-1.04.2-1.43.59L10.3 9.45l-7.72 7.72c-.78.78-.78 2.05 0 2.83L4 21.41c.39.39.9.59 1.41.59.51 0 1.02-.2 1.41-.59l7.78-7.78 2.81-2.81c.8-.78.8-2.07 0-2.86zM5.41 20L4 18.59l7.72-7.72 1.47 1.35L5.41 20z\"/>\n",
              "  </svg>\n",
              "      </button>\n",
              "      \n",
              "  <style>\n",
              "    .colab-df-container {\n",
              "      display:flex;\n",
              "      flex-wrap:wrap;\n",
              "      gap: 12px;\n",
              "    }\n",
              "\n",
              "    .colab-df-convert {\n",
              "      background-color: #E8F0FE;\n",
              "      border: none;\n",
              "      border-radius: 50%;\n",
              "      cursor: pointer;\n",
              "      display: none;\n",
              "      fill: #1967D2;\n",
              "      height: 32px;\n",
              "      padding: 0 0 0 0;\n",
              "      width: 32px;\n",
              "    }\n",
              "\n",
              "    .colab-df-convert:hover {\n",
              "      background-color: #E2EBFA;\n",
              "      box-shadow: 0px 1px 2px rgba(60, 64, 67, 0.3), 0px 1px 3px 1px rgba(60, 64, 67, 0.15);\n",
              "      fill: #174EA6;\n",
              "    }\n",
              "\n",
              "    [theme=dark] .colab-df-convert {\n",
              "      background-color: #3B4455;\n",
              "      fill: #D2E3FC;\n",
              "    }\n",
              "\n",
              "    [theme=dark] .colab-df-convert:hover {\n",
              "      background-color: #434B5C;\n",
              "      box-shadow: 0px 1px 3px 1px rgba(0, 0, 0, 0.15);\n",
              "      filter: drop-shadow(0px 1px 2px rgba(0, 0, 0, 0.3));\n",
              "      fill: #FFFFFF;\n",
              "    }\n",
              "  </style>\n",
              "\n",
              "      <script>\n",
              "        const buttonEl =\n",
              "          document.querySelector('#df-e40785c2-2500-4efb-956f-4d1497adafb3 button.colab-df-convert');\n",
              "        buttonEl.style.display =\n",
              "          google.colab.kernel.accessAllowed ? 'block' : 'none';\n",
              "\n",
              "        async function convertToInteractive(key) {\n",
              "          const element = document.querySelector('#df-e40785c2-2500-4efb-956f-4d1497adafb3');\n",
              "          const dataTable =\n",
              "            await google.colab.kernel.invokeFunction('convertToInteractive',\n",
              "                                                     [key], {});\n",
              "          if (!dataTable) return;\n",
              "\n",
              "          const docLinkHtml = 'Like what you see? Visit the ' +\n",
              "            '<a target=\"_blank\" href=https://colab.research.google.com/notebooks/data_table.ipynb>data table notebook</a>'\n",
              "            + ' to learn more about interactive tables.';\n",
              "          element.innerHTML = '';\n",
              "          dataTable['output_type'] = 'display_data';\n",
              "          await google.colab.output.renderOutput(dataTable, element);\n",
              "          const docLink = document.createElement('div');\n",
              "          docLink.innerHTML = docLinkHtml;\n",
              "          element.appendChild(docLink);\n",
              "        }\n",
              "      </script>\n",
              "    </div>\n",
              "  </div>\n",
              "  "
            ],
            "text/plain": [
              "   x1  x2  y\n",
              "0   0   0  0\n",
              "1   0   1  1\n",
              "2   1   0  1\n",
              "3   1   1  1"
            ]
          },
          "metadata": {},
          "execution_count": 31
        }
      ]
    },
    {
      "cell_type": "code",
      "metadata": {
        "id": "Xaj9bfpf-Scx",
        "colab": {
          "base_uri": "https://localhost:8080/"
        },
        "outputId": "874a6fb5-4f3c-4bcc-8e0d-1d688950356e"
      },
      "source": [
        "X,y = prepare_data(df_OR)\n",
        "\n",
        "ETA = 0.3 # 0 and 1\n",
        "EPOCHS = 10\n",
        "\n",
        "model_OR = Perceptron(eta=ETA, epochs=EPOCHS)\n",
        "model_OR.fit(X, y)\n",
        "\n",
        "_ = model_OR.total_loss()\n"
      ],
      "execution_count": 32,
      "outputs": [
        {
          "output_type": "stream",
          "name": "stdout",
          "text": [
            "initial weights before training: \n",
            "[-2.71780357e-05  9.42204405e-05  1.77599993e-04]\n",
            "X with bias: \n",
            "[[ 0.  0. -1.]\n",
            " [ 0.  1. -1.]\n",
            " [ 1.  0. -1.]\n",
            " [ 1.  1. -1.]]\n",
            "--------------------\n",
            "for epoch: 1\n",
            "--------------------\n",
            "predicted value after forward pass: \n",
            "[0 0 0 0]\n",
            "error: \n",
            "0    0\n",
            "1    1\n",
            "2    1\n",
            "3    1\n",
            "Name: y, dtype: int64\n",
            "total loss: 3\n",
            "updated weights after epoch:\n",
            "1/10 : \n",
            "[ 0.59997282  0.60009422 -0.8998224 ]\n",
            "##################################################\n",
            "--------------------\n",
            "for epoch: 2\n",
            "--------------------\n",
            "predicted value after forward pass: \n",
            "[1 1 1 1]\n",
            "error: \n",
            "0   -1\n",
            "1    0\n",
            "2    0\n",
            "3    0\n",
            "Name: y, dtype: int64\n",
            "total loss: -1\n",
            "updated weights after epoch:\n",
            "2/10 : \n",
            "[ 0.59997282  0.60009422 -0.5998224 ]\n",
            "##################################################\n",
            "--------------------\n",
            "for epoch: 3\n",
            "--------------------\n",
            "predicted value after forward pass: \n",
            "[1 1 1 1]\n",
            "error: \n",
            "0   -1\n",
            "1    0\n",
            "2    0\n",
            "3    0\n",
            "Name: y, dtype: int64\n",
            "total loss: -1\n",
            "updated weights after epoch:\n",
            "3/10 : \n",
            "[ 0.59997282  0.60009422 -0.2998224 ]\n",
            "##################################################\n",
            "--------------------\n",
            "for epoch: 4\n",
            "--------------------\n",
            "predicted value after forward pass: \n",
            "[1 1 1 1]\n",
            "error: \n",
            "0   -1\n",
            "1    0\n",
            "2    0\n",
            "3    0\n",
            "Name: y, dtype: int64\n",
            "total loss: -1\n",
            "updated weights after epoch:\n",
            "4/10 : \n",
            "[5.99972822e-01 6.00094220e-01 1.77599993e-04]\n",
            "##################################################\n",
            "--------------------\n",
            "for epoch: 5\n",
            "--------------------\n",
            "predicted value after forward pass: \n",
            "[0 1 1 1]\n",
            "error: \n",
            "0    0\n",
            "1    0\n",
            "2    0\n",
            "3    0\n",
            "Name: y, dtype: int64\n",
            "total loss: 0\n",
            "updated weights after epoch:\n",
            "5/10 : \n",
            "[5.99972822e-01 6.00094220e-01 1.77599993e-04]\n",
            "##################################################\n",
            "--------------------\n",
            "for epoch: 6\n",
            "--------------------\n",
            "predicted value after forward pass: \n",
            "[0 1 1 1]\n",
            "error: \n",
            "0    0\n",
            "1    0\n",
            "2    0\n",
            "3    0\n",
            "Name: y, dtype: int64\n",
            "total loss: 0\n",
            "updated weights after epoch:\n",
            "6/10 : \n",
            "[5.99972822e-01 6.00094220e-01 1.77599993e-04]\n",
            "##################################################\n",
            "--------------------\n",
            "for epoch: 7\n",
            "--------------------\n",
            "predicted value after forward pass: \n",
            "[0 1 1 1]\n",
            "error: \n",
            "0    0\n",
            "1    0\n",
            "2    0\n",
            "3    0\n",
            "Name: y, dtype: int64\n",
            "total loss: 0\n",
            "updated weights after epoch:\n",
            "7/10 : \n",
            "[5.99972822e-01 6.00094220e-01 1.77599993e-04]\n",
            "##################################################\n",
            "--------------------\n",
            "for epoch: 8\n",
            "--------------------\n",
            "predicted value after forward pass: \n",
            "[0 1 1 1]\n",
            "error: \n",
            "0    0\n",
            "1    0\n",
            "2    0\n",
            "3    0\n",
            "Name: y, dtype: int64\n",
            "total loss: 0\n",
            "updated weights after epoch:\n",
            "8/10 : \n",
            "[5.99972822e-01 6.00094220e-01 1.77599993e-04]\n",
            "##################################################\n",
            "--------------------\n",
            "for epoch: 9\n",
            "--------------------\n",
            "predicted value after forward pass: \n",
            "[0 1 1 1]\n",
            "error: \n",
            "0    0\n",
            "1    0\n",
            "2    0\n",
            "3    0\n",
            "Name: y, dtype: int64\n",
            "total loss: 0\n",
            "updated weights after epoch:\n",
            "9/10 : \n",
            "[5.99972822e-01 6.00094220e-01 1.77599993e-04]\n",
            "##################################################\n",
            "--------------------\n",
            "for epoch: 10\n",
            "--------------------\n",
            "predicted value after forward pass: \n",
            "[0 1 1 1]\n",
            "error: \n",
            "0    0\n",
            "1    0\n",
            "2    0\n",
            "3    0\n",
            "Name: y, dtype: int64\n",
            "total loss: 0\n",
            "updated weights after epoch:\n",
            "10/10 : \n",
            "[5.99972822e-01 6.00094220e-01 1.77599993e-04]\n",
            "##################################################\n",
            "total loss: 0\n"
          ]
        }
      ]
    },
    {
      "cell_type": "code",
      "source": [
        "model_OR.predict(X)"
      ],
      "metadata": {
        "colab": {
          "base_uri": "https://localhost:8080/"
        },
        "id": "nDUCBfZai_Ts",
        "outputId": "8c738e21-832e-40b5-ec9a-2ed6303909c2"
      },
      "execution_count": 33,
      "outputs": [
        {
          "output_type": "execute_result",
          "data": {
            "text/plain": [
              "array([0, 1, 1, 1])"
            ]
          },
          "metadata": {},
          "execution_count": 33
        }
      ]
    },
    {
      "cell_type": "code",
      "source": [
        "model_OR.predict(X=[[1,1]])"
      ],
      "metadata": {
        "colab": {
          "base_uri": "https://localhost:8080/"
        },
        "id": "ZPB6CM_4iarm",
        "outputId": "74dd682a-0bf8-4d15-e248-2079c9c6106e"
      },
      "execution_count": 34,
      "outputs": [
        {
          "output_type": "execute_result",
          "data": {
            "text/plain": [
              "array([1])"
            ]
          },
          "metadata": {},
          "execution_count": 34
        }
      ]
    },
    {
      "cell_type": "code",
      "source": [
        "save_model(model_OR, \"OR.model\")  #saving the OR model"
      ],
      "metadata": {
        "id": "28ET4aggim2I"
      },
      "execution_count": 41,
      "outputs": []
    },
    {
      "cell_type": "code",
      "source": [
        "loaded_model = joblib.load(\"models/OR.model\")  #loading saved OR model\n",
        "loaded_model.predict(inputs)  #inputs = np.array([[1,1], [0,1]]) from above"
      ],
      "metadata": {
        "colab": {
          "base_uri": "https://localhost:8080/"
        },
        "id": "KC_tPMDlit0W",
        "outputId": "8f3d6c50-2d1e-4d8c-bb01-61c6e2b775e8"
      },
      "execution_count": 42,
      "outputs": [
        {
          "output_type": "execute_result",
          "data": {
            "text/plain": [
              "array([1, 1])"
            ]
          },
          "metadata": {},
          "execution_count": 42
        }
      ]
    },
    {
      "cell_type": "code",
      "metadata": {
        "id": "7p8bKYth-bbT",
        "colab": {
          "base_uri": "https://localhost:8080/",
          "height": 175
        },
        "outputId": "8d7dcf42-45d3-4eac-a346-4929fad5a388"
      },
      "source": [
        "XOR = {\n",
        "    \"x1\": [0,0,1,1],\n",
        "    \"x2\": [0,1,0,1],\n",
        "    \"y\": [0,1,1,0],\n",
        "}\n",
        "\n",
        "df_XOR = pd.DataFrame(XOR)\n",
        "\n",
        "df_XOR"
      ],
      "execution_count": 38,
      "outputs": [
        {
          "output_type": "execute_result",
          "data": {
            "text/html": [
              "\n",
              "  <div id=\"df-e7865ed0-6304-43bf-9e07-c0897a9ecf4f\">\n",
              "    <div class=\"colab-df-container\">\n",
              "      <div>\n",
              "<style scoped>\n",
              "    .dataframe tbody tr th:only-of-type {\n",
              "        vertical-align: middle;\n",
              "    }\n",
              "\n",
              "    .dataframe tbody tr th {\n",
              "        vertical-align: top;\n",
              "    }\n",
              "\n",
              "    .dataframe thead th {\n",
              "        text-align: right;\n",
              "    }\n",
              "</style>\n",
              "<table border=\"1\" class=\"dataframe\">\n",
              "  <thead>\n",
              "    <tr style=\"text-align: right;\">\n",
              "      <th></th>\n",
              "      <th>x1</th>\n",
              "      <th>x2</th>\n",
              "      <th>y</th>\n",
              "    </tr>\n",
              "  </thead>\n",
              "  <tbody>\n",
              "    <tr>\n",
              "      <th>0</th>\n",
              "      <td>0</td>\n",
              "      <td>0</td>\n",
              "      <td>0</td>\n",
              "    </tr>\n",
              "    <tr>\n",
              "      <th>1</th>\n",
              "      <td>0</td>\n",
              "      <td>1</td>\n",
              "      <td>1</td>\n",
              "    </tr>\n",
              "    <tr>\n",
              "      <th>2</th>\n",
              "      <td>1</td>\n",
              "      <td>0</td>\n",
              "      <td>1</td>\n",
              "    </tr>\n",
              "    <tr>\n",
              "      <th>3</th>\n",
              "      <td>1</td>\n",
              "      <td>1</td>\n",
              "      <td>0</td>\n",
              "    </tr>\n",
              "  </tbody>\n",
              "</table>\n",
              "</div>\n",
              "      <button class=\"colab-df-convert\" onclick=\"convertToInteractive('df-e7865ed0-6304-43bf-9e07-c0897a9ecf4f')\"\n",
              "              title=\"Convert this dataframe to an interactive table.\"\n",
              "              style=\"display:none;\">\n",
              "        \n",
              "  <svg xmlns=\"http://www.w3.org/2000/svg\" height=\"24px\"viewBox=\"0 0 24 24\"\n",
              "       width=\"24px\">\n",
              "    <path d=\"M0 0h24v24H0V0z\" fill=\"none\"/>\n",
              "    <path d=\"M18.56 5.44l.94 2.06.94-2.06 2.06-.94-2.06-.94-.94-2.06-.94 2.06-2.06.94zm-11 1L8.5 8.5l.94-2.06 2.06-.94-2.06-.94L8.5 2.5l-.94 2.06-2.06.94zm10 10l.94 2.06.94-2.06 2.06-.94-2.06-.94-.94-2.06-.94 2.06-2.06.94z\"/><path d=\"M17.41 7.96l-1.37-1.37c-.4-.4-.92-.59-1.43-.59-.52 0-1.04.2-1.43.59L10.3 9.45l-7.72 7.72c-.78.78-.78 2.05 0 2.83L4 21.41c.39.39.9.59 1.41.59.51 0 1.02-.2 1.41-.59l7.78-7.78 2.81-2.81c.8-.78.8-2.07 0-2.86zM5.41 20L4 18.59l7.72-7.72 1.47 1.35L5.41 20z\"/>\n",
              "  </svg>\n",
              "      </button>\n",
              "      \n",
              "  <style>\n",
              "    .colab-df-container {\n",
              "      display:flex;\n",
              "      flex-wrap:wrap;\n",
              "      gap: 12px;\n",
              "    }\n",
              "\n",
              "    .colab-df-convert {\n",
              "      background-color: #E8F0FE;\n",
              "      border: none;\n",
              "      border-radius: 50%;\n",
              "      cursor: pointer;\n",
              "      display: none;\n",
              "      fill: #1967D2;\n",
              "      height: 32px;\n",
              "      padding: 0 0 0 0;\n",
              "      width: 32px;\n",
              "    }\n",
              "\n",
              "    .colab-df-convert:hover {\n",
              "      background-color: #E2EBFA;\n",
              "      box-shadow: 0px 1px 2px rgba(60, 64, 67, 0.3), 0px 1px 3px 1px rgba(60, 64, 67, 0.15);\n",
              "      fill: #174EA6;\n",
              "    }\n",
              "\n",
              "    [theme=dark] .colab-df-convert {\n",
              "      background-color: #3B4455;\n",
              "      fill: #D2E3FC;\n",
              "    }\n",
              "\n",
              "    [theme=dark] .colab-df-convert:hover {\n",
              "      background-color: #434B5C;\n",
              "      box-shadow: 0px 1px 3px 1px rgba(0, 0, 0, 0.15);\n",
              "      filter: drop-shadow(0px 1px 2px rgba(0, 0, 0, 0.3));\n",
              "      fill: #FFFFFF;\n",
              "    }\n",
              "  </style>\n",
              "\n",
              "      <script>\n",
              "        const buttonEl =\n",
              "          document.querySelector('#df-e7865ed0-6304-43bf-9e07-c0897a9ecf4f button.colab-df-convert');\n",
              "        buttonEl.style.display =\n",
              "          google.colab.kernel.accessAllowed ? 'block' : 'none';\n",
              "\n",
              "        async function convertToInteractive(key) {\n",
              "          const element = document.querySelector('#df-e7865ed0-6304-43bf-9e07-c0897a9ecf4f');\n",
              "          const dataTable =\n",
              "            await google.colab.kernel.invokeFunction('convertToInteractive',\n",
              "                                                     [key], {});\n",
              "          if (!dataTable) return;\n",
              "\n",
              "          const docLinkHtml = 'Like what you see? Visit the ' +\n",
              "            '<a target=\"_blank\" href=https://colab.research.google.com/notebooks/data_table.ipynb>data table notebook</a>'\n",
              "            + ' to learn more about interactive tables.';\n",
              "          element.innerHTML = '';\n",
              "          dataTable['output_type'] = 'display_data';\n",
              "          await google.colab.output.renderOutput(dataTable, element);\n",
              "          const docLink = document.createElement('div');\n",
              "          docLink.innerHTML = docLinkHtml;\n",
              "          element.appendChild(docLink);\n",
              "        }\n",
              "      </script>\n",
              "    </div>\n",
              "  </div>\n",
              "  "
            ],
            "text/plain": [
              "   x1  x2  y\n",
              "0   0   0  0\n",
              "1   0   1  1\n",
              "2   1   0  1\n",
              "3   1   1  0"
            ]
          },
          "metadata": {},
          "execution_count": 38
        }
      ]
    },
    {
      "cell_type": "code",
      "metadata": {
        "id": "a2iHTuJW-qAC",
        "colab": {
          "base_uri": "https://localhost:8080/"
        },
        "outputId": "278222cb-5b90-4355-b968-c77a6fc1ce5e"
      },
      "source": [
        "X,y = prepare_data(df_XOR)\n",
        "\n",
        "ETA = 0.3 # 0 and 1\n",
        "EPOCHS = 10\n",
        "\n",
        "model_XOR = Perceptron(eta=ETA, epochs=EPOCHS)\n",
        "model_XOR.fit(X, y)\n",
        "\n",
        "_ = model_XOR.total_loss()\n",
        "#model didn't work for XOR gate, it is a non-linear gate"
      ],
      "execution_count": 39,
      "outputs": [
        {
          "output_type": "stream",
          "name": "stdout",
          "text": [
            "initial weights before training: \n",
            "[ 6.08641310e-05 -2.10536977e-04 -1.22462687e-04]\n",
            "X with bias: \n",
            "[[ 0.  0. -1.]\n",
            " [ 0.  1. -1.]\n",
            " [ 1.  0. -1.]\n",
            " [ 1.  1. -1.]]\n",
            "--------------------\n",
            "for epoch: 1\n",
            "--------------------\n",
            "predicted value after forward pass: \n",
            "[1 0 1 0]\n",
            "error: \n",
            "0   -1\n",
            "1    1\n",
            "2    0\n",
            "3    0\n",
            "Name: y, dtype: int64\n",
            "total loss: 0\n",
            "updated weights after epoch:\n",
            "1/10 : \n",
            "[ 6.08641310e-05  2.99789463e-01 -1.22462687e-04]\n",
            "##################################################\n",
            "--------------------\n",
            "for epoch: 2\n",
            "--------------------\n",
            "predicted value after forward pass: \n",
            "[1 1 1 1]\n",
            "error: \n",
            "0   -1\n",
            "1    0\n",
            "2    0\n",
            "3   -1\n",
            "Name: y, dtype: int64\n",
            "total loss: -2\n",
            "updated weights after epoch:\n",
            "2/10 : \n",
            "[-2.99939136e-01 -2.10536977e-04  5.99877537e-01]\n",
            "##################################################\n",
            "--------------------\n",
            "for epoch: 3\n",
            "--------------------\n",
            "predicted value after forward pass: \n",
            "[0 0 0 0]\n",
            "error: \n",
            "0    0\n",
            "1    1\n",
            "2    1\n",
            "3    0\n",
            "Name: y, dtype: int64\n",
            "total loss: 2\n",
            "updated weights after epoch:\n",
            "3/10 : \n",
            "[ 6.08641310e-05  2.99789463e-01 -1.22462687e-04]\n",
            "##################################################\n",
            "--------------------\n",
            "for epoch: 4\n",
            "--------------------\n",
            "predicted value after forward pass: \n",
            "[1 1 1 1]\n",
            "error: \n",
            "0   -1\n",
            "1    0\n",
            "2    0\n",
            "3   -1\n",
            "Name: y, dtype: int64\n",
            "total loss: -2\n",
            "updated weights after epoch:\n",
            "4/10 : \n",
            "[-2.99939136e-01 -2.10536977e-04  5.99877537e-01]\n",
            "##################################################\n",
            "--------------------\n",
            "for epoch: 5\n",
            "--------------------\n",
            "predicted value after forward pass: \n",
            "[0 0 0 0]\n",
            "error: \n",
            "0    0\n",
            "1    1\n",
            "2    1\n",
            "3    0\n",
            "Name: y, dtype: int64\n",
            "total loss: 2\n",
            "updated weights after epoch:\n",
            "5/10 : \n",
            "[ 6.08641310e-05  2.99789463e-01 -1.22462687e-04]\n",
            "##################################################\n",
            "--------------------\n",
            "for epoch: 6\n",
            "--------------------\n",
            "predicted value after forward pass: \n",
            "[1 1 1 1]\n",
            "error: \n",
            "0   -1\n",
            "1    0\n",
            "2    0\n",
            "3   -1\n",
            "Name: y, dtype: int64\n",
            "total loss: -2\n",
            "updated weights after epoch:\n",
            "6/10 : \n",
            "[-2.99939136e-01 -2.10536977e-04  5.99877537e-01]\n",
            "##################################################\n",
            "--------------------\n",
            "for epoch: 7\n",
            "--------------------\n",
            "predicted value after forward pass: \n",
            "[0 0 0 0]\n",
            "error: \n",
            "0    0\n",
            "1    1\n",
            "2    1\n",
            "3    0\n",
            "Name: y, dtype: int64\n",
            "total loss: 2\n",
            "updated weights after epoch:\n",
            "7/10 : \n",
            "[ 6.08641310e-05  2.99789463e-01 -1.22462687e-04]\n",
            "##################################################\n",
            "--------------------\n",
            "for epoch: 8\n",
            "--------------------\n",
            "predicted value after forward pass: \n",
            "[1 1 1 1]\n",
            "error: \n",
            "0   -1\n",
            "1    0\n",
            "2    0\n",
            "3   -1\n",
            "Name: y, dtype: int64\n",
            "total loss: -2\n",
            "updated weights after epoch:\n",
            "8/10 : \n",
            "[-2.99939136e-01 -2.10536977e-04  5.99877537e-01]\n",
            "##################################################\n",
            "--------------------\n",
            "for epoch: 9\n",
            "--------------------\n",
            "predicted value after forward pass: \n",
            "[0 0 0 0]\n",
            "error: \n",
            "0    0\n",
            "1    1\n",
            "2    1\n",
            "3    0\n",
            "Name: y, dtype: int64\n",
            "total loss: 2\n",
            "updated weights after epoch:\n",
            "9/10 : \n",
            "[ 6.08641310e-05  2.99789463e-01 -1.22462687e-04]\n",
            "##################################################\n",
            "--------------------\n",
            "for epoch: 10\n",
            "--------------------\n",
            "predicted value after forward pass: \n",
            "[1 1 1 1]\n",
            "error: \n",
            "0   -1\n",
            "1    0\n",
            "2    0\n",
            "3   -1\n",
            "Name: y, dtype: int64\n",
            "total loss: -2\n",
            "updated weights after epoch:\n",
            "10/10 : \n",
            "[-2.99939136e-01 -2.10536977e-04  5.99877537e-01]\n",
            "##################################################\n",
            "total loss: -2\n"
          ]
        }
      ]
    },
    {
      "cell_type": "code",
      "source": [
        "save_model(model_XOR, \"XOR.model\")  #saving the XOR model"
      ],
      "metadata": {
        "id": "sim-jFBqjoyt"
      },
      "execution_count": 40,
      "outputs": []
    },
    {
      "cell_type": "code",
      "source": [
        "loaded_model = joblib.load(\"models/XOR.model\")  #loading saved XOR model\n",
        "loaded_model.predict(inputs)  #inputs = np.array([[1,1], [0,1]]) from above, looks like model did not give correct output"
      ],
      "metadata": {
        "colab": {
          "base_uri": "https://localhost:8080/"
        },
        "id": "Ng99p6d6j3QT",
        "outputId": "2737bf44-50d9-45b4-dbc8-0111b8ef31d7"
      },
      "execution_count": 44,
      "outputs": [
        {
          "output_type": "execute_result",
          "data": {
            "text/plain": [
              "array([0, 0])"
            ]
          },
          "metadata": {},
          "execution_count": 44
        }
      ]
    },
    {
      "cell_type": "code",
      "metadata": {
        "id": "DUB6Vy7PIdeh",
        "colab": {
          "base_uri": "https://localhost:8080/",
          "height": 175
        },
        "outputId": "3521a81a-8216-4045-99a6-fe8db2092675"
      },
      "source": [
        "NAND = {\n",
        "    \"x1\": [0,0,1,1],\n",
        "    \"x2\": [0,1,0,1],\n",
        "    \"y\": [1,1,1,0],\n",
        "}\n",
        "\n",
        "df_NAND = pd.DataFrame(NAND)\n",
        "\n",
        "df_NAND"
      ],
      "execution_count": 46,
      "outputs": [
        {
          "output_type": "execute_result",
          "data": {
            "text/html": [
              "\n",
              "  <div id=\"df-faaa906c-401f-4ac5-af07-471b2b289675\">\n",
              "    <div class=\"colab-df-container\">\n",
              "      <div>\n",
              "<style scoped>\n",
              "    .dataframe tbody tr th:only-of-type {\n",
              "        vertical-align: middle;\n",
              "    }\n",
              "\n",
              "    .dataframe tbody tr th {\n",
              "        vertical-align: top;\n",
              "    }\n",
              "\n",
              "    .dataframe thead th {\n",
              "        text-align: right;\n",
              "    }\n",
              "</style>\n",
              "<table border=\"1\" class=\"dataframe\">\n",
              "  <thead>\n",
              "    <tr style=\"text-align: right;\">\n",
              "      <th></th>\n",
              "      <th>x1</th>\n",
              "      <th>x2</th>\n",
              "      <th>y</th>\n",
              "    </tr>\n",
              "  </thead>\n",
              "  <tbody>\n",
              "    <tr>\n",
              "      <th>0</th>\n",
              "      <td>0</td>\n",
              "      <td>0</td>\n",
              "      <td>1</td>\n",
              "    </tr>\n",
              "    <tr>\n",
              "      <th>1</th>\n",
              "      <td>0</td>\n",
              "      <td>1</td>\n",
              "      <td>1</td>\n",
              "    </tr>\n",
              "    <tr>\n",
              "      <th>2</th>\n",
              "      <td>1</td>\n",
              "      <td>0</td>\n",
              "      <td>1</td>\n",
              "    </tr>\n",
              "    <tr>\n",
              "      <th>3</th>\n",
              "      <td>1</td>\n",
              "      <td>1</td>\n",
              "      <td>0</td>\n",
              "    </tr>\n",
              "  </tbody>\n",
              "</table>\n",
              "</div>\n",
              "      <button class=\"colab-df-convert\" onclick=\"convertToInteractive('df-faaa906c-401f-4ac5-af07-471b2b289675')\"\n",
              "              title=\"Convert this dataframe to an interactive table.\"\n",
              "              style=\"display:none;\">\n",
              "        \n",
              "  <svg xmlns=\"http://www.w3.org/2000/svg\" height=\"24px\"viewBox=\"0 0 24 24\"\n",
              "       width=\"24px\">\n",
              "    <path d=\"M0 0h24v24H0V0z\" fill=\"none\"/>\n",
              "    <path d=\"M18.56 5.44l.94 2.06.94-2.06 2.06-.94-2.06-.94-.94-2.06-.94 2.06-2.06.94zm-11 1L8.5 8.5l.94-2.06 2.06-.94-2.06-.94L8.5 2.5l-.94 2.06-2.06.94zm10 10l.94 2.06.94-2.06 2.06-.94-2.06-.94-.94-2.06-.94 2.06-2.06.94z\"/><path d=\"M17.41 7.96l-1.37-1.37c-.4-.4-.92-.59-1.43-.59-.52 0-1.04.2-1.43.59L10.3 9.45l-7.72 7.72c-.78.78-.78 2.05 0 2.83L4 21.41c.39.39.9.59 1.41.59.51 0 1.02-.2 1.41-.59l7.78-7.78 2.81-2.81c.8-.78.8-2.07 0-2.86zM5.41 20L4 18.59l7.72-7.72 1.47 1.35L5.41 20z\"/>\n",
              "  </svg>\n",
              "      </button>\n",
              "      \n",
              "  <style>\n",
              "    .colab-df-container {\n",
              "      display:flex;\n",
              "      flex-wrap:wrap;\n",
              "      gap: 12px;\n",
              "    }\n",
              "\n",
              "    .colab-df-convert {\n",
              "      background-color: #E8F0FE;\n",
              "      border: none;\n",
              "      border-radius: 50%;\n",
              "      cursor: pointer;\n",
              "      display: none;\n",
              "      fill: #1967D2;\n",
              "      height: 32px;\n",
              "      padding: 0 0 0 0;\n",
              "      width: 32px;\n",
              "    }\n",
              "\n",
              "    .colab-df-convert:hover {\n",
              "      background-color: #E2EBFA;\n",
              "      box-shadow: 0px 1px 2px rgba(60, 64, 67, 0.3), 0px 1px 3px 1px rgba(60, 64, 67, 0.15);\n",
              "      fill: #174EA6;\n",
              "    }\n",
              "\n",
              "    [theme=dark] .colab-df-convert {\n",
              "      background-color: #3B4455;\n",
              "      fill: #D2E3FC;\n",
              "    }\n",
              "\n",
              "    [theme=dark] .colab-df-convert:hover {\n",
              "      background-color: #434B5C;\n",
              "      box-shadow: 0px 1px 3px 1px rgba(0, 0, 0, 0.15);\n",
              "      filter: drop-shadow(0px 1px 2px rgba(0, 0, 0, 0.3));\n",
              "      fill: #FFFFFF;\n",
              "    }\n",
              "  </style>\n",
              "\n",
              "      <script>\n",
              "        const buttonEl =\n",
              "          document.querySelector('#df-faaa906c-401f-4ac5-af07-471b2b289675 button.colab-df-convert');\n",
              "        buttonEl.style.display =\n",
              "          google.colab.kernel.accessAllowed ? 'block' : 'none';\n",
              "\n",
              "        async function convertToInteractive(key) {\n",
              "          const element = document.querySelector('#df-faaa906c-401f-4ac5-af07-471b2b289675');\n",
              "          const dataTable =\n",
              "            await google.colab.kernel.invokeFunction('convertToInteractive',\n",
              "                                                     [key], {});\n",
              "          if (!dataTable) return;\n",
              "\n",
              "          const docLinkHtml = 'Like what you see? Visit the ' +\n",
              "            '<a target=\"_blank\" href=https://colab.research.google.com/notebooks/data_table.ipynb>data table notebook</a>'\n",
              "            + ' to learn more about interactive tables.';\n",
              "          element.innerHTML = '';\n",
              "          dataTable['output_type'] = 'display_data';\n",
              "          await google.colab.output.renderOutput(dataTable, element);\n",
              "          const docLink = document.createElement('div');\n",
              "          docLink.innerHTML = docLinkHtml;\n",
              "          element.appendChild(docLink);\n",
              "        }\n",
              "      </script>\n",
              "    </div>\n",
              "  </div>\n",
              "  "
            ],
            "text/plain": [
              "   x1  x2  y\n",
              "0   0   0  1\n",
              "1   0   1  1\n",
              "2   1   0  1\n",
              "3   1   1  0"
            ]
          },
          "metadata": {},
          "execution_count": 46
        }
      ]
    },
    {
      "cell_type": "code",
      "metadata": {
        "id": "kfCDzpETIdei",
        "colab": {
          "base_uri": "https://localhost:8080/"
        },
        "outputId": "0fd1f00c-8c07-45a1-e552-9c112c6fede7"
      },
      "source": [
        "X,y = prepare_data(df_NAND)\n",
        "\n",
        "ETA = 0.3 # 0 and 1\n",
        "EPOCHS = 10\n",
        "\n",
        "model_NAND = Perceptron(eta=ETA, epochs=EPOCHS)\n",
        "model_NAND.fit(X, y)\n",
        "\n",
        "_ = model_NAND.total_loss()\n"
      ],
      "execution_count": 47,
      "outputs": [
        {
          "output_type": "stream",
          "name": "stdout",
          "text": [
            "initial weights before training: \n",
            "[ 9.51647893e-05  1.45007055e-06 -8.85863765e-05]\n",
            "X with bias: \n",
            "[[ 0.  0. -1.]\n",
            " [ 0.  1. -1.]\n",
            " [ 1.  0. -1.]\n",
            " [ 1.  1. -1.]]\n",
            "--------------------\n",
            "for epoch: 1\n",
            "--------------------\n",
            "predicted value after forward pass: \n",
            "[1 1 1 1]\n",
            "error: \n",
            "0    0\n",
            "1    0\n",
            "2    0\n",
            "3   -1\n",
            "Name: y, dtype: int64\n",
            "total loss: -1\n",
            "updated weights after epoch:\n",
            "1/10 : \n",
            "[-0.29990484 -0.29999855  0.29991141]\n",
            "##################################################\n",
            "--------------------\n",
            "for epoch: 2\n",
            "--------------------\n",
            "predicted value after forward pass: \n",
            "[0 0 0 0]\n",
            "error: \n",
            "0    1\n",
            "1    1\n",
            "2    1\n",
            "3    0\n",
            "Name: y, dtype: int64\n",
            "total loss: 3\n",
            "updated weights after epoch:\n",
            "2/10 : \n",
            "[ 9.51647893e-05  1.45007055e-06 -6.00088586e-01]\n",
            "##################################################\n",
            "--------------------\n",
            "for epoch: 3\n",
            "--------------------\n",
            "predicted value after forward pass: \n",
            "[1 1 1 1]\n",
            "error: \n",
            "0    0\n",
            "1    0\n",
            "2    0\n",
            "3   -1\n",
            "Name: y, dtype: int64\n",
            "total loss: -1\n",
            "updated weights after epoch:\n",
            "3/10 : \n",
            "[-0.29990484 -0.29999855 -0.30008859]\n",
            "##################################################\n",
            "--------------------\n",
            "for epoch: 4\n",
            "--------------------\n",
            "predicted value after forward pass: \n",
            "[1 1 1 0]\n",
            "error: \n",
            "0    0\n",
            "1    0\n",
            "2    0\n",
            "3    0\n",
            "Name: y, dtype: int64\n",
            "total loss: 0\n",
            "updated weights after epoch:\n",
            "4/10 : \n",
            "[-0.29990484 -0.29999855 -0.30008859]\n",
            "##################################################\n",
            "--------------------\n",
            "for epoch: 5\n",
            "--------------------\n",
            "predicted value after forward pass: \n",
            "[1 1 1 0]\n",
            "error: \n",
            "0    0\n",
            "1    0\n",
            "2    0\n",
            "3    0\n",
            "Name: y, dtype: int64\n",
            "total loss: 0\n",
            "updated weights after epoch:\n",
            "5/10 : \n",
            "[-0.29990484 -0.29999855 -0.30008859]\n",
            "##################################################\n",
            "--------------------\n",
            "for epoch: 6\n",
            "--------------------\n",
            "predicted value after forward pass: \n",
            "[1 1 1 0]\n",
            "error: \n",
            "0    0\n",
            "1    0\n",
            "2    0\n",
            "3    0\n",
            "Name: y, dtype: int64\n",
            "total loss: 0\n",
            "updated weights after epoch:\n",
            "6/10 : \n",
            "[-0.29990484 -0.29999855 -0.30008859]\n",
            "##################################################\n",
            "--------------------\n",
            "for epoch: 7\n",
            "--------------------\n",
            "predicted value after forward pass: \n",
            "[1 1 1 0]\n",
            "error: \n",
            "0    0\n",
            "1    0\n",
            "2    0\n",
            "3    0\n",
            "Name: y, dtype: int64\n",
            "total loss: 0\n",
            "updated weights after epoch:\n",
            "7/10 : \n",
            "[-0.29990484 -0.29999855 -0.30008859]\n",
            "##################################################\n",
            "--------------------\n",
            "for epoch: 8\n",
            "--------------------\n",
            "predicted value after forward pass: \n",
            "[1 1 1 0]\n",
            "error: \n",
            "0    0\n",
            "1    0\n",
            "2    0\n",
            "3    0\n",
            "Name: y, dtype: int64\n",
            "total loss: 0\n",
            "updated weights after epoch:\n",
            "8/10 : \n",
            "[-0.29990484 -0.29999855 -0.30008859]\n",
            "##################################################\n",
            "--------------------\n",
            "for epoch: 9\n",
            "--------------------\n",
            "predicted value after forward pass: \n",
            "[1 1 1 0]\n",
            "error: \n",
            "0    0\n",
            "1    0\n",
            "2    0\n",
            "3    0\n",
            "Name: y, dtype: int64\n",
            "total loss: 0\n",
            "updated weights after epoch:\n",
            "9/10 : \n",
            "[-0.29990484 -0.29999855 -0.30008859]\n",
            "##################################################\n",
            "--------------------\n",
            "for epoch: 10\n",
            "--------------------\n",
            "predicted value after forward pass: \n",
            "[1 1 1 0]\n",
            "error: \n",
            "0    0\n",
            "1    0\n",
            "2    0\n",
            "3    0\n",
            "Name: y, dtype: int64\n",
            "total loss: 0\n",
            "updated weights after epoch:\n",
            "10/10 : \n",
            "[-0.29990484 -0.29999855 -0.30008859]\n",
            "##################################################\n",
            "total loss: 0\n"
          ]
        }
      ]
    },
    {
      "cell_type": "code",
      "source": [
        "save_model(model_NAND, \"NAND.model\")  #saving the NAND model"
      ],
      "metadata": {
        "id": "vcmfly8OlHYO"
      },
      "execution_count": 48,
      "outputs": []
    },
    {
      "cell_type": "code",
      "source": [
        "loaded_model = joblib.load(\"models/NAND.model\")  #loading saved NAND model\n",
        "loaded_model.predict(inputs)  #inputs = np.array([[1,1], [0,1]]) from above"
      ],
      "metadata": {
        "colab": {
          "base_uri": "https://localhost:8080/"
        },
        "id": "GDF9OwhZlTtk",
        "outputId": "9e7ec287-f739-4fce-dd33-99b2ca427fa4"
      },
      "execution_count": 49,
      "outputs": [
        {
          "output_type": "execute_result",
          "data": {
            "text/plain": [
              "array([0, 1])"
            ]
          },
          "metadata": {},
          "execution_count": 49
        }
      ]
    },
    {
      "cell_type": "code",
      "metadata": {
        "id": "x5tTYf-v-wqx"
      },
      "source": [
        "def save_plot(df, file_name, model):\n",
        "  def _create_base_plot(df):                                                 # plots the data points and creates a base plot\n",
        "    df.plot(kind=\"scatter\", x=\"x1\", y=\"x2\", c=\"y\", s=100, cmap=\"winter\")\n",
        "    plt.axhline(y=0, color=\"black\", linestyle=\"--\", linewidth=1)\n",
        "    plt.axvline(x=0, color=\"black\", linestyle=\"--\", linewidth=1)\n",
        "    figure = plt.gcf() # get current figure\n",
        "    figure.set_size_inches(10, 8)\n",
        "\n",
        "  def _plot_decision_regions(X, y, classfier, resolution=0.02):              # plots the decision boundaries\n",
        "    colors = (\"magenta\", \"green\", \"lightgreen\", \"gray\", \"cyan\")\n",
        "    cmap = ListedColormap(colors[: len(np.unique(y))])        # since we have a binary classifier (perceptron) but listed 4 colors above it will take the first two colors for y output values\n",
        "\n",
        "    X = X.values  # this is the x1 and x2 values as an array\n",
        "    x1 = X[:, 0]  # first column\n",
        "    x2 = X[:, 1]  # second column\n",
        "    x1_min, x1_max = x1.min() -1 , x1.max() + 1\n",
        "    x2_min, x2_max = x2.min() -1 , x2.max() + 1  \n",
        "\n",
        "    xx1, xx2 = np.meshgrid(np.arange(x1_min, x1_max, resolution), \n",
        "                           np.arange(x2_min, x2_max, resolution))\n",
        "    print(f\"This is xx1:\\n{xx1}\")\n",
        "    print(f\"This is xx1.ravel: {xx1.ravel()}\", end='\\n')\n",
        "    print(f\"This is transpose xx1.ravel: {xx1.ravel().T}\", end='\\n')\n",
        "    print(f\"shape of xx1 is: {xx1.shape}\", end='\\n')\n",
        "    \n",
        "    Z = classfier.predict(np.array([xx1.ravel(), xx2.ravel()]).T)  #ravel converts to 1D array\n",
        "    Z = Z.reshape(xx1.shape)\n",
        "    print(Z.reshape(xx1.shape), end='\\n')\n",
        "\n",
        "    plt.contourf(xx1, xx2, Z, alpha=0.2, cmap=cmap)\n",
        "    plt.xlim(xx1.min(), xx1.max())\n",
        "    plt.ylim(xx2.min(), xx2.max())\n",
        "\n",
        "    plt.plot()\n",
        "\n",
        "\n",
        "\n",
        "  X, y = prepare_data(df)\n",
        "\n",
        "  _create_base_plot(df)\n",
        "  _plot_decision_regions(X, y, model)\n",
        "\n",
        "  plot_dir = \"plots\"\n",
        "  os.makedirs(plot_dir, exist_ok=True) # Only create if plot_dir doesen't exist\n",
        "  plotPath = os.path.join(plot_dir, file_name) # plots/filename\n",
        "  plt.savefig(plotPath)"
      ],
      "execution_count": 67,
      "outputs": []
    },
    {
      "cell_type": "code",
      "source": [
        ""
      ],
      "metadata": {
        "id": "rObgdahYRrUN"
      },
      "execution_count": null,
      "outputs": []
    },
    {
      "cell_type": "code",
      "metadata": {
        "id": "rledl-hZG0Xb",
        "colab": {
          "base_uri": "https://localhost:8080/",
          "height": 855
        },
        "outputId": "643433a0-baf8-4be3-e82b-ce6b53181f4d"
      },
      "source": [
        "save_plot(df_AND, \"and.png\", model_AND)"
      ],
      "execution_count": 63,
      "outputs": [
        {
          "output_type": "stream",
          "name": "stdout",
          "text": [
            "This is xx1:\n",
            "[[-1.   -0.98 -0.96 ...  1.94  1.96  1.98]\n",
            " [-1.   -0.98 -0.96 ...  1.94  1.96  1.98]\n",
            " [-1.   -0.98 -0.96 ...  1.94  1.96  1.98]\n",
            " ...\n",
            " [-1.   -0.98 -0.96 ...  1.94  1.96  1.98]\n",
            " [-1.   -0.98 -0.96 ...  1.94  1.96  1.98]\n",
            " [-1.   -0.98 -0.96 ...  1.94  1.96  1.98]]\n",
            "This is xx1.ravel: [-1.   -0.98 -0.96 ...  1.94  1.96  1.98]\n",
            "This is transpose xx1.ravel: [-1.   -0.98 -0.96 ...  1.94  1.96  1.98]\n",
            "shape of xx1 is: (150, 150)\n",
            "[[0 0 0 ... 0 0 0]\n",
            " [0 0 0 ... 0 0 0]\n",
            " [0 0 0 ... 0 0 0]\n",
            " ...\n",
            " [0 0 0 ... 1 1 1]\n",
            " [0 0 0 ... 1 1 1]\n",
            " [0 0 0 ... 1 1 1]]\n"
          ]
        },
        {
          "output_type": "display_data",
          "data": {
            "image/png": "[encoded data removed]",
            "text/plain": [
              "<Figure size 720x576 with 2 Axes>"
            ]
          },
          "metadata": {}
        }
      ]
    },
    {
      "cell_type": "code",
      "metadata": {
        "id": "fFY4S4tpD32Y",
        "colab": {
          "base_uri": "https://localhost:8080/",
          "height": 855
        },
        "outputId": "f9976c27-95b4-4077-af33-ec72d29e937b"
      },
      "source": [
        "save_plot(df_OR, \"or.png\", model_OR)"
      ],
      "execution_count": 64,
      "outputs": [
        {
          "output_type": "stream",
          "name": "stdout",
          "text": [
            "This is xx1:\n",
            "[[-1.   -0.98 -0.96 ...  1.94  1.96  1.98]\n",
            " [-1.   -0.98 -0.96 ...  1.94  1.96  1.98]\n",
            " [-1.   -0.98 -0.96 ...  1.94  1.96  1.98]\n",
            " ...\n",
            " [-1.   -0.98 -0.96 ...  1.94  1.96  1.98]\n",
            " [-1.   -0.98 -0.96 ...  1.94  1.96  1.98]\n",
            " [-1.   -0.98 -0.96 ...  1.94  1.96  1.98]]\n",
            "This is xx1.ravel: [-1.   -0.98 -0.96 ...  1.94  1.96  1.98]\n",
            "This is transpose xx1.ravel: [-1.   -0.98 -0.96 ...  1.94  1.96  1.98]\n",
            "shape of xx1 is: (150, 150)\n",
            "[[0 0 0 ... 1 1 1]\n",
            " [0 0 0 ... 1 1 1]\n",
            " [0 0 0 ... 1 1 1]\n",
            " ...\n",
            " [1 1 1 ... 1 1 1]\n",
            " [1 1 1 ... 1 1 1]\n",
            " [1 1 1 ... 1 1 1]]\n"
          ]
        },
        {
          "output_type": "display_data",
          "data": {
            "image/png": "[encoded data removed]",
            "text/plain": [
              "<Figure size 720x576 with 2 Axes>"
            ]
          },
          "metadata": {}
        }
      ]
    },
    {
      "cell_type": "code",
      "metadata": {
        "id": "e8tRuYw4HMP1",
        "colab": {
          "base_uri": "https://localhost:8080/",
          "height": 855
        },
        "outputId": "96167ccc-f1b0-478a-c1da-4a2a6f154920"
      },
      "source": [
        "save_plot(df_XOR, \"xor.png\", model_XOR)"
      ],
      "execution_count": 65,
      "outputs": [
        {
          "output_type": "stream",
          "name": "stdout",
          "text": [
            "This is xx1:\n",
            "[[-1.   -0.98 -0.96 ...  1.94  1.96  1.98]\n",
            " [-1.   -0.98 -0.96 ...  1.94  1.96  1.98]\n",
            " [-1.   -0.98 -0.96 ...  1.94  1.96  1.98]\n",
            " ...\n",
            " [-1.   -0.98 -0.96 ...  1.94  1.96  1.98]\n",
            " [-1.   -0.98 -0.96 ...  1.94  1.96  1.98]\n",
            " [-1.   -0.98 -0.96 ...  1.94  1.96  1.98]]\n",
            "This is xx1.ravel: [-1.   -0.98 -0.96 ...  1.94  1.96  1.98]\n",
            "This is transpose xx1.ravel: [-1.   -0.98 -0.96 ...  1.94  1.96  1.98]\n",
            "shape of xx1 is: (150, 150)\n",
            "[[0 0 0 ... 0 0 0]\n",
            " [0 0 0 ... 0 0 0]\n",
            " [0 0 0 ... 0 0 0]\n",
            " ...\n",
            " [0 0 0 ... 0 0 0]\n",
            " [0 0 0 ... 0 0 0]\n",
            " [0 0 0 ... 0 0 0]]\n"
          ]
        },
        {
          "output_type": "display_data",
          "data": {
            "image/png": "[encoded data removed]",
            "text/plain": [
              "<Figure size 720x576 with 2 Axes>"
            ]
          },
          "metadata": {}
        }
      ]
    },
    {
      "cell_type": "code",
      "metadata": {
        "id": "5wHficobIdei",
        "colab": {
          "base_uri": "https://localhost:8080/",
          "height": 855
        },
        "outputId": "59c511e8-b70b-44bb-f1a8-35c9efa67c11"
      },
      "source": [
        "save_plot(df_NAND, \"nand.png\", model_NAND)"
      ],
      "execution_count": 66,
      "outputs": [
        {
          "output_type": "stream",
          "name": "stdout",
          "text": [
            "This is xx1:\n",
            "[[-1.   -0.98 -0.96 ...  1.94  1.96  1.98]\n",
            " [-1.   -0.98 -0.96 ...  1.94  1.96  1.98]\n",
            " [-1.   -0.98 -0.96 ...  1.94  1.96  1.98]\n",
            " ...\n",
            " [-1.   -0.98 -0.96 ...  1.94  1.96  1.98]\n",
            " [-1.   -0.98 -0.96 ...  1.94  1.96  1.98]\n",
            " [-1.   -0.98 -0.96 ...  1.94  1.96  1.98]]\n",
            "This is xx1.ravel: [-1.   -0.98 -0.96 ...  1.94  1.96  1.98]\n",
            "This is transpose xx1.ravel: [-1.   -0.98 -0.96 ...  1.94  1.96  1.98]\n",
            "shape of xx1 is: (150, 150)\n",
            "[[1 1 1 ... 1 1 1]\n",
            " [1 1 1 ... 1 1 1]\n",
            " [1 1 1 ... 1 1 0]\n",
            " ...\n",
            " [1 1 1 ... 0 0 0]\n",
            " [1 1 1 ... 0 0 0]\n",
            " [1 0 0 ... 0 0 0]]\n"
          ]
        },
        {
          "output_type": "display_data",
          "data": {
            "image/png": "[encoded data removed]",
            "text/plain": [
              "<Figure size 720x576 with 2 Axes>"
            ]
          },
          "metadata": {}
        }
      ]
    }
  ]
}